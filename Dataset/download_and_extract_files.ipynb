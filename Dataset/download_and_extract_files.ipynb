{
 "cells": [
  {
   "cell_type": "code",
   "execution_count": 29,
   "metadata": {},
   "outputs": [],
   "source": [
    "import os\n",
    "import requests\n",
    "import zipfile\n",
    "import nibabel as nib\n",
    "from bs4 import BeautifulSoup"
   ]
  },
  {
   "cell_type": "code",
   "execution_count": 30,
   "metadata": {},
   "outputs": [],
   "source": [
    "# Function to download and extract all zip files\n",
    "def download_and_extract_zip(url, download_folder):\n",
    "    \"\"\"\n",
    "    Downloads and extracts ZIP files if they haven't been downloaded and processed.\n",
    "    \"\"\"\n",
    "    response = requests.get(url)\n",
    "    soup = BeautifulSoup(response.text, 'html.parser')\n",
    "\n",
    "    zip_links = [a['href'] for a in soup.find_all('a', href=True) if 'zip' in a['href']]\n",
    "\n",
    "    for link in zip_links:\n",
    "        # Clean the file name by removing query parameters\n",
    "        file_url = 'https://zenodo.org' + link if link.startswith('/') else link\n",
    "        file_name = file_url.split('/')[-1].split('?')[0]  # Remove query parameters\n",
    "        file_path = os.path.join(download_folder, file_name)\n",
    "\n",
    "        # Create a folder for each ZIP file\n",
    "        folder_name = os.path.join(download_folder, file_name.replace(\".zip\", \"\"))\n",
    "        \n",
    "        # Skip download and extraction if the folder already exists\n",
    "        if os.path.exists(folder_name):\n",
    "            print(f\"Folder {folder_name} already exists. Skipping download and extraction.\")\n",
    "            continue\n",
    "\n",
    "        if not os.path.exists(file_path):\n",
    "            print(f\"Downloading {file_name}...\")\n",
    "            response = requests.get(file_url)\n",
    "            with open(file_path, 'wb') as file:\n",
    "                file.write(response.content)\n",
    "            print(f\"Downloaded {file_name}\")\n",
    "\n",
    "        # Extract the ZIP file into its corresponding folder\n",
    "        try:\n",
    "            with zipfile.ZipFile(file_path, 'r') as zip_ref:\n",
    "                zip_ref.extractall(folder_name)\n",
    "                print(f\"Extracted {file_name} to {folder_name}\")\n",
    "            # Delete the ZIP file after extraction\n",
    "            os.remove(file_path)\n",
    "            print(f\"Deleted ZIP file: {file_path}\")\n",
    "        except zipfile.BadZipFile:\n",
    "            print(f\"Error: {file_name} is not a valid zip file.\")\n",
    "\n"
   ]
  },
  {
   "cell_type": "code",
   "execution_count": 31,
   "metadata": {},
   "outputs": [],
   "source": [
    "# Function to convert .nii.gz to .nii\n",
    "def convert_nii_gz_to_nii(input_folder, output_folder=None):\n",
    "    \"\"\"\n",
    "    Converts all .nii.gz files in the input folder to .nii files.\n",
    "\n",
    "    Parameters:\n",
    "        input_folder (str): Path to the folder containing .nii.gz files.\n",
    "        output_folder (str): Path to save .nii files (optional).\n",
    "    \"\"\"\n",
    "    if not os.path.exists(input_folder):\n",
    "        raise FileNotFoundError(f\"The folder {input_folder} does not exist.\")\n",
    "    \n",
    "    if output_folder is None:\n",
    "        output_folder = input_folder\n",
    "    else:\n",
    "        os.makedirs(output_folder, exist_ok=True)\n",
    "\n",
    "    for file_name in os.listdir(input_folder):\n",
    "        if file_name.endswith(\".nii.gz\"):\n",
    "            input_file = os.path.join(input_folder, file_name)\n",
    "            output_file = os.path.join(output_folder, file_name.replace(\".nii.gz\", \".nii\"))\n",
    "\n",
    "            img = nib.load(input_file)\n",
    "            nib.save(img, output_file)\n",
    "            print(f\"Converted {input_file} to {output_file}\")\n",
    "\n",
    "            # Delete the original .nii.gz file\n",
    "            os.remove(input_file)\n",
    "            print(f\"Deleted original file: {input_file}\")\n"
   ]
  },
  {
   "cell_type": "code",
   "execution_count": null,
   "metadata": {},
   "outputs": [],
   "source": []
  },
  {
   "cell_type": "code",
   "execution_count": 32,
   "metadata": {},
   "outputs": [],
   "source": [
    "def cleanup_residual_files(directory):\n",
    "    \"\"\"\n",
    "    Deletes all files in the directory except folders.\n",
    "    \"\"\"\n",
    "    for item in os.listdir(directory):\n",
    "        item_path = os.path.join(directory, item)\n",
    "        if os.path.isfile(item_path):\n",
    "            os.remove(item_path)\n",
    "            print(f\"Deleted residual file: {item_path}\")\n"
   ]
  },
  {
   "cell_type": "code",
   "execution_count": 35,
   "metadata": {},
   "outputs": [
    {
     "name": "stdout",
     "output_type": "stream",
     "text": [
      "Folder ../data/COVID-19-CT-Seg_20cases already exists. Skipping download and extraction.\n",
      "Folder ../data/COVID-19-CT-Seg_20cases already exists. Skipping download and extraction.\n",
      "Folder ../data/COVID-19-CT-Seg_20cases already exists. Skipping download and extraction.\n",
      "Folder ../data/Infection_Mask already exists. Skipping download and extraction.\n",
      "Folder ../data/Infection_Mask already exists. Skipping download and extraction.\n",
      "Folder ../data/Infection_Mask already exists. Skipping download and extraction.\n",
      "Folder ../data/Lung_and_Infection_Mask already exists. Skipping download and extraction.\n",
      "Folder ../data/Lung_and_Infection_Mask already exists. Skipping download and extraction.\n",
      "Folder ../data/Lung_and_Infection_Mask already exists. Skipping download and extraction.\n",
      "Folder ../data/Lung_Mask already exists. Skipping download and extraction.\n",
      "Folder ../data/Lung_Mask already exists. Skipping download and extraction.\n",
      "Folder ../data/Lung_Mask already exists. Skipping download and extraction.\n",
      "Deleted residual file: ../data/.DS_Store\n",
      "Deleted residual file: ../data/metadata.csv\n"
     ]
    }
   ],
   "source": [
    "# Main workflow\n",
    "url = 'https://zenodo.org/record/3757476'  # Replace with the actual URL\n",
    "download_folder = '../data'  # Set your folder path\n",
    "\n",
    "# Ensure the download folder exists\n",
    "os.makedirs(download_folder, exist_ok=True)\n",
    "\n",
    "# Download, extract, and convert files\n",
    "download_and_extract_zip(url, download_folder)\n",
    "\n",
    "# Convert all extracted .nii.gz files to .nii\n",
    "for folder in os.listdir(download_folder):\n",
    "    folder_path = os.path.join(download_folder, folder)\n",
    "    if os.path.isdir(folder_path):\n",
    "        convert_nii_gz_to_nii(folder_path)\n",
    "\n",
    "\n",
    "# Remove any remaining residual files\n",
    "cleanup_residual_files(download_folder)\n"
   ]
  },
  {
   "cell_type": "code",
   "execution_count": null,
   "metadata": {},
   "outputs": [],
   "source": []
  }
 ],
 "metadata": {
  "kernelspec": {
   "display_name": "myenv",
   "language": "python",
   "name": "python3"
  },
  "language_info": {
   "codemirror_mode": {
    "name": "ipython",
    "version": 3
   },
   "file_extension": ".py",
   "mimetype": "text/x-python",
   "name": "python",
   "nbconvert_exporter": "python",
   "pygments_lexer": "ipython3",
   "version": "3.10.13"
  }
 },
 "nbformat": 4,
 "nbformat_minor": 2
}
